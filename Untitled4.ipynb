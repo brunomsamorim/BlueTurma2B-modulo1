{
  "nbformat": 4,
  "nbformat_minor": 0,
  "metadata": {
    "colab": {
      "name": "Untitled4.ipynb",
      "provenance": [],
      "authorship_tag": "ABX9TyPoTLkTyqqkufw9BdAhYQ1k",
      "include_colab_link": true
    },
    "kernelspec": {
      "name": "python3",
      "display_name": "Python 3"
    },
    "language_info": {
      "name": "python"
    }
  },
  "cells": [
    {
      "cell_type": "markdown",
      "metadata": {
        "id": "view-in-github",
        "colab_type": "text"
      },
      "source": [
        "<a href=\"https://colab.research.google.com/github/brunomsamorim/BlueTurma2B-modulo1/blob/main/Untitled4.ipynb\" target=\"_parent\"><img src=\"https://colab.research.google.com/assets/colab-badge.svg\" alt=\"Open In Colab\"/></a>"
      ]
    },
    {
      "cell_type": "code",
      "metadata": {
        "id": "dfb-gy1c0L-9"
      },
      "source": [
        "# Exercício 1: \"Faça um Programa que leia três números inteiros, em seguida mostre o maior e o menor deles.\"\n",
        "# Primeira Parte\n",
        "\n",
        "primeiro = int(input(\"Digite o Primeiro Numero\"))\n",
        "segundo = int(input(\"Digite o Segundo Numero\"))\n",
        "terceiro = int(input(\"Digite o Terceiro Numero\"))\n",
        "\n",
        "maior = primeiro\n",
        "\n",
        "if (segundo > maior):\n",
        "  maior = segundo\n",
        "if (terceiro > maior):\n",
        "  maior = terceiro\n",
        "\n",
        "print(\"Maior:\", maior)\n"
      ],
      "execution_count": null,
      "outputs": []
    },
    {
      "cell_type": "code",
      "metadata": {
        "id": "TA2LU7DFHqad"
      },
      "source": [
        "# Segunda Parte\n",
        "\n",
        "if (segundo > maior):\n",
        "  maior = segundo\n",
        "if (terceiro > maior):\n",
        "  maior = terceiro\n",
        "\n",
        "print(\"Maior:\", maior)"
      ],
      "execution_count": null,
      "outputs": []
    },
    {
      "cell_type": "code",
      "metadata": {
        "id": "eUGIQn5hZdfM"
      },
      "source": [
        "num=int( input('Digite um numero: ') )\n",
        "\n",
        "if num > 0 :\n",
        "    print('Positivo')\n",
        "else:\n",
        "    if num == 0 :\n",
        "        print('Nem positivo nem negativo, é 0')\n",
        "    else:\n",
        "        print('Negativo')"
      ],
      "execution_count": null,
      "outputs": []
    },
    {
      "cell_type": "code",
      "metadata": {
        "colab": {
          "base_uri": "https://localhost:8080/"
        },
        "id": "KXe2bnV4at4D",
        "outputId": "394f4a77-dbbf-4622-e775-c95e7800e880"
      },
      "source": [
        "#Crie um programa que verifique se uma letra digitada é \"F\" ou \"M\". Conforme a letra escrever: F - Feminino, M - Masculino, Sexo Inválido.\n",
        "\n",
        "resposta=input('M ou F: ')\n",
        "\n",
        "if resposta == 'M':\n",
        "    print('Masculina')\n",
        "else:\n",
        "    if resposta == 'F':\n",
        "          print('Feminina')\n",
        "    else:\n",
        "        print('Você não digitou M ou F')"
      ],
      "execution_count": 10,
      "outputs": [
        {
          "output_type": "stream",
          "text": [
            "M ou F: F\n",
            "Feminina\n"
          ],
          "name": "stdout"
        }
      ]
    },
    {
      "cell_type": "code",
      "metadata": {
        "colab": {
          "base_uri": "https://localhost:8080/"
        },
        "id": "ewjIQ9luazwj",
        "outputId": "403eba16-13e7-4e5b-9262-1aff428f2b83"
      },
      "source": [
        "# Crie um programa em Python que peça a nota do aluno, que deve ser um float entre 0.00 e 10.0 \n",
        "#Se a nota for menor que 6.0, deve exibir a nota F. \n",
        "#Se a nota for de 6.0 até 7.0, deve exibir a nota D. \n",
        "#Se a nota for entre 7.0 e 8.0, deve exibir a nota C. \n",
        "#Se a nota for entre 8.0 e 9.0, deve exibir a nota B. \n",
        "#Por fim, se for entre 9.0 e 10.0, deve exibir um belo de um A'''\n",
        "\n",
        "resposta=float(input('Qual a nota [0.0 - 10.0]: '))\n",
        "\n",
        "if resposta < 6.0:\n",
        "    print(\"Nota F\")\n",
        "elif resposta < 7.0:\n",
        "    print(\"Nota D\")\n",
        "elif resposta < 8.0:\n",
        "    print(\"Nota C\")\n",
        "elif resposta < 9.0:\n",
        "    print(\"Nota B\")\n",
        "else:\n",
        "    print(\"Nota A\")"
      ],
      "execution_count": 20,
      "outputs": [
        {
          "output_type": "stream",
          "text": [
            "Qual a nota [0.0 - 10.0]: 9\n",
            "Nota A\n"
          ],
          "name": "stdout"
        }
      ]
    },
    {
      "cell_type": "code",
      "metadata": {
        "id": "XT-VIhJIa-58"
      },
      "source": [
        "#Faça um Programa que verifique se uma letra digitada é vogal ou consoante. "
      ],
      "execution_count": null,
      "outputs": []
    },
    {
      "cell_type": "code",
      "metadata": {
        "id": "ICfDBqp5bF6i"
      },
      "source": [
        "#PROJETO 1 \n",
        "#Resultado da primeira/segunda aula em Python: \n",
        "#Escreva um programa que receba uma string digitada pelo usuário; \n",
        "#Caso a string seja \"medieval\", exiba no console \"espada\"; \n",
        "#Caso contrário, se a string for \"futurista\", exiba no console \"sabre de luz\"; \n",
        "#Caso contrário, exiba no console \"Tente novamente\"'''"
      ],
      "execution_count": null,
      "outputs": []
    },
    {
      "cell_type": "code",
      "metadata": {
        "id": "A9PBmbNsbODH"
      },
      "source": [
        "#Continuação do PROJETO 1 \n",
        "#Escreva um programa que receba um ataque de espada ou sabre digitada pelo usuário; \n",
        "#Caso o ataque seja \"espada\", exiba no console \"VOCÊ AINDA NÃO MATOU O CHEFÃO\"; \n",
        "#Caso contrário, se o ataque for \"sabre\", exiba no console \"VOCÊ DERROTOU O CHEFÃO COM O SABRE DE LUZ\"; \n",
        "#Caso contrário, exiba no console \"ATAQUE NOVAMENTE\" '''"
      ],
      "execution_count": null,
      "outputs": []
    },
    {
      "cell_type": "code",
      "metadata": {
        "id": "tN4EkrN-bOEc"
      },
      "source": [
        "#Faça um programa que recebe o salário de um colaborador e o reajuste segundo o seguinte critério, baseado no salário atual: \n",
        "#salários até R$ 280,00 (incluindo) : aumento de 20% \n",
        "#salários entre R$ 280,00 e R$ 700,00 : aumento de 15% \n",
        "#salários entre R$ 700,00 e R$ 1500,00 : aumento de 10% \n",
        "#salários de R$ 1500,00 em diante : aumento de 5% \n",
        "#Após o aumento ser realizado, informe na tela: \n",
        "#o salário antes do reajuste; \n",
        "#o percentual de aumento aplicado; \n",
        "#o valor do aumento; \n",
        "#o novo salário, após o aumento"
      ],
      "execution_count": null,
      "outputs": []
    },
    {
      "cell_type": "code",
      "metadata": {
        "id": "3MNZ5-ULad2l"
      },
      "source": [
        "#Faça um Programa para um caixa eletrônico. O programa deverá perguntar ao usuário \n",
        "#a valor do saque e depois informar quantas notas de cada valor serão fornecidas. \n",
        "#As notas disponíveis serão as de 1, 5, 10, 50 e 100 reais. O valor mínimo é de 10 reais e o máximo de 600 reais. \n",
        "#O programa não deve se preocupar com a quantidade de notas existentes na máquina. \n",
        "\n",
        "\n",
        "valor = int(input(\"Digite o valor a ser sacado (entre 10 e 600): \"))\n",
        "if (valor < 10 or valor > 600): \n",
        "    print(\"Valor inválido!\")\n",
        "else:\n",
        "    cem = valor // 100  \n",
        "    valor -= cem * 100  \n",
        "    cinquenta = valor // 50  \n",
        "    valor -= cinquenta * 50\n",
        "    dez = valor // 10\n",
        "    valor -= dez * 10\n",
        "    cinco = valor // 5\n",
        "    valor -= cinco * 5\n",
        "    um = valor  \n",
        "    if cem > 0:\n",
        "        print(f\"{cem} nota(s) de cem\")\n",
        "    if cinquenta > 0:\n",
        "        print(f\"{cinquenta} nota(s) de cinquenta\")\n",
        "    if dez > 0:\n",
        "        print(f\"{dez} nota(s) de dez\")\n",
        "    if cinco > 0:\n",
        "        print(f\"{cinco} nota(s) de cinco\")\n",
        "    if um > 0:\n",
        "        print(f\"{um} nota(s) de um\")"
      ],
      "execution_count": null,
      "outputs": []
    },
    {
      "cell_type": "code",
      "metadata": {
        "id": "xbJ8fjy3HquY"
      },
      "source": [
        ""
      ],
      "execution_count": null,
      "outputs": []
    }
  ]
}